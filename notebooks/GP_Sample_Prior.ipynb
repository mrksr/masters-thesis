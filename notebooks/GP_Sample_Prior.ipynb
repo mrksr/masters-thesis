{
 "cells": [
  {
   "cell_type": "code",
   "execution_count": 39,
   "metadata": {
    "collapsed": true
   },
   "outputs": [],
   "source": [
    "import GPy\n",
    "import numpy as np\n",
    "import matplotlib.pyplot as plt\n",
    "\n",
    "%matplotlib inline"
   ]
  },
  {
   "cell_type": "code",
   "execution_count": 120,
   "metadata": {
    "collapsed": false
   },
   "outputs": [],
   "source": [
    "rbf = GPy.kern.RBF(input_dim=1, variance=1., lengthscale=1.)\n",
    "rbf_amplitude = GPy.kern.RBF(input_dim=1, variance=2., lengthscale=1.)\n",
    "rbf_lengthscale = normal_rbf = GPy.kern.RBF(input_dim=1, variance=1., lengthscale=1/4)\n",
    "linear = GPy.kern.Linear(input_dim=1)\n",
    "\n",
    "rbf_posterior = GPy.kern.RBF(input_dim=1, variance=5, lengthscale=1.)"
   ]
  },
  {
   "cell_type": "code",
   "execution_count": 107,
   "metadata": {
    "collapsed": true
   },
   "outputs": [],
   "source": [
    "def sample_from_kernel(k, bounds=(-2, 2)):\n",
    "    X = np.arange(*bounds, 0.01)\n",
    "    gram = k.K(X[:, None])\n",
    "    mu = np.zeros_like(X)\n",
    "    return X, np.random.multivariate_normal(mu, gram)\n",
    "\n",
    "def create_samples(name, kernel, bounds=None):\n",
    "    for i in range(3):\n",
    "        X, y = sample_from_kernel(kernel, bounds=bounds)\n",
    "        stacked = np.vstack((X, y)).T\n",
    "        np.savetxt(\n",
    "            \"prior_{}_sample_{}.dat\".format(name, i),\n",
    "            stacked,\n",
    "            delimiter='\\t',\n",
    "            comments='',\n",
    "            header='\\t'.join([\"X\", \"y\"])\n",
    "        )"
   ]
  },
  {
   "cell_type": "code",
   "execution_count": 90,
   "metadata": {
    "collapsed": false
   },
   "outputs": [
    {
     "name": "stderr",
     "output_type": "stream",
     "text": [
      " /usr/lib/python3.5/site-packages/ipykernel/__main__.py:5: RuntimeWarning:covariance is not positive-semidefinite.\n"
     ]
    }
   ],
   "source": [
    "create_samples(\"rbf\", rbf)"
   ]
  },
  {
   "cell_type": "code",
   "execution_count": 99,
   "metadata": {
    "collapsed": false
   },
   "outputs": [
    {
     "name": "stderr",
     "output_type": "stream",
     "text": [
      " /usr/lib/python3.5/site-packages/ipykernel/__main__.py:5: RuntimeWarning:covariance is not positive-semidefinite.\n"
     ]
    }
   ],
   "source": [
    "create_samples(\"rbf_amplitude\", rbf_amplitude)"
   ]
  },
  {
   "cell_type": "code",
   "execution_count": 103,
   "metadata": {
    "collapsed": false
   },
   "outputs": [
    {
     "name": "stderr",
     "output_type": "stream",
     "text": [
      " /usr/lib/python3.5/site-packages/ipykernel/__main__.py:5: RuntimeWarning:covariance is not positive-semidefinite.\n"
     ]
    }
   ],
   "source": [
    "create_samples(\"rbf_lengthscale\", rbf_lengthscale)"
   ]
  },
  {
   "cell_type": "code",
   "execution_count": 106,
   "metadata": {
    "collapsed": false
   },
   "outputs": [
    {
     "name": "stderr",
     "output_type": "stream",
     "text": [
      " /usr/lib/python3.5/site-packages/ipykernel/__main__.py:5: RuntimeWarning:covariance is not positive-semidefinite.\n"
     ]
    }
   ],
   "source": [
    "create_samples(\"linear\", linear)"
   ]
  },
  {
   "cell_type": "code",
   "execution_count": 121,
   "metadata": {
    "collapsed": false
   },
   "outputs": [
    {
     "name": "stderr",
     "output_type": "stream",
     "text": [
      " /usr/lib/python3.5/site-packages/ipykernel/__main__.py:5: RuntimeWarning:covariance is not positive-semidefinite.\n"
     ]
    }
   ],
   "source": [
    "create_samples(\"rbf_posterior\", rbf_posterior, bounds=(-5, 5))"
   ]
  },
  {
   "cell_type": "code",
   "execution_count": null,
   "metadata": {
    "collapsed": true
   },
   "outputs": [],
   "source": []
  }
 ],
 "metadata": {
  "kernelspec": {
   "display_name": "Python 3",
   "language": "python",
   "name": "python3"
  },
  "language_info": {
   "codemirror_mode": {
    "name": "ipython",
    "version": 3
   },
   "file_extension": ".py",
   "mimetype": "text/x-python",
   "name": "python",
   "nbconvert_exporter": "python",
   "pygments_lexer": "ipython3",
   "version": "3.5.1"
  }
 },
 "nbformat": 4,
 "nbformat_minor": 0
}
